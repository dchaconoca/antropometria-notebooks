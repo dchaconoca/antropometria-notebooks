{
 "cells": [
  {
   "cell_type": "markdown",
   "id": "775a6494",
   "metadata": {},
   "source": [
    "# Obesity Modelado\n",
    "\n",
    "**Variable objetivo:** Obesity: \n",
    "- **0** -> Riesgo nulo o bajo\n",
    "- **1** -> Riesgo medio\n",
    "- **2** -> Riesgo alto\n",
    "\n",
    "Se trata de un problema de clasificación supervisada. \n",
    "\n",
    "1. Primero evaluaré los modelos regresión logística, árboles de decisión, vector support machines y ramdon forest; utilizando los datos origianles del dataset (no los calculados).\n",
    "2. Escogeré los dos mejores modelos para compararlos con diferentes subconjuntos de datos.\n",
    "3. Seleccionaré el modelo definitivo.\n",
    "4. Construiré 2 workflows:\n",
    "\n",
    "- Workflow para entrenar el modelo con todos los datos y guardarlo\n",
    "- Workflow para hacer la predicción para una persona\n",
    "\n",
    "**Tareas:**\n",
    "\n",
    "1. Cargar los datos\n",
    "2. Selección y separación del dataset\n",
    "3. Transformación de los datos (si necesario)\n",
    "4. Entrenar y evaluar diferentes modelos de clasificación\n",
    "5. Escoger el(los) mejor(es) modelo(s)\n",
    "6. Ajustar y mejorar el modelo escogido\n",
    "7. Contruir los workflows\n",
    "\n"
   ]
  },
  {
   "cell_type": "code",
   "execution_count": 1,
   "id": "933f9cf9",
   "metadata": {},
   "outputs": [],
   "source": [
    "# Librerías\n",
    "from pathlib import Path\n",
    "import pickle\n",
    "\n",
    "import pandas as pd\n",
    "import numpy as np\n",
    "\n",
    "import matplotlib.pyplot as plt\n",
    "import seaborn as sns\n",
    "\n",
    "# Dividir el dataframe\n",
    "from sklearn.model_selection import train_test_split\n",
    "\n",
    "# Clasificación supervisada\n",
    "from sklearn.linear_model import LogisticRegression\n",
    "from sklearn.tree import DecisionTreeClassifier\n",
    "from sklearn.svm import SVC\n",
    "from sklearn.ensemble import RandomForestClassifier\n",
    "\n",
    "# Métricas\n",
    "from sklearn.metrics import accuracy_score, classification_report, confusion_matrix\n",
    "\n",
    "# Armando pipelines\n",
    "from sklearn.preprocessing import FunctionTransformer\n",
    "from sklearn.compose import ColumnTransformer\n",
    "from sklearn.pipeline import FeatureUnion, Pipeline\n",
    "\n",
    "# Funciones propias\n",
    "import data_common_functions as dcf\n",
    "import char_common_functions as ccf\n",
    "from custom_functions import custom_calculus"
   ]
  },
  {
   "cell_type": "markdown",
   "id": "20adb5e8",
   "metadata": {},
   "source": [
    "## Tareas generales"
   ]
  },
  {
   "cell_type": "markdown",
   "id": "86138cd6",
   "metadata": {},
   "source": [
    "### Cargar los datos"
   ]
  },
  {
   "cell_type": "code",
   "execution_count": 2,
   "id": "e8714ade",
   "metadata": {},
   "outputs": [
    {
     "data": {
      "text/html": [
       "<div>\n",
       "<style scoped>\n",
       "    .dataframe tbody tr th:only-of-type {\n",
       "        vertical-align: middle;\n",
       "    }\n",
       "\n",
       "    .dataframe tbody tr th {\n",
       "        vertical-align: top;\n",
       "    }\n",
       "\n",
       "    .dataframe thead th {\n",
       "        text-align: right;\n",
       "    }\n",
       "</style>\n",
       "<table border=\"1\" class=\"dataframe\">\n",
       "  <thead>\n",
       "    <tr style=\"text-align: right;\">\n",
       "      <th></th>\n",
       "      <th>age</th>\n",
       "      <th>age_range</th>\n",
       "      <th>gender</th>\n",
       "      <th>height</th>\n",
       "      <th>weight</th>\n",
       "      <th>waist_circum_preferred</th>\n",
       "      <th>hip_circum</th>\n",
       "      <th>gender_bin</th>\n",
       "      <th>bmi</th>\n",
       "      <th>rcc</th>\n",
       "      <th>...</th>\n",
       "      <th>obesity_bmi_txt</th>\n",
       "      <th>obesity_cc</th>\n",
       "      <th>obesity_cc_txt</th>\n",
       "      <th>obesity_rcc</th>\n",
       "      <th>obesity_rcc_txt</th>\n",
       "      <th>obesity_ict</th>\n",
       "      <th>obesity_ict_txt</th>\n",
       "      <th>risk_factors</th>\n",
       "      <th>cluster</th>\n",
       "      <th>obesity</th>\n",
       "    </tr>\n",
       "  </thead>\n",
       "  <tbody>\n",
       "    <tr>\n",
       "      <th>1</th>\n",
       "      <td>47.0</td>\n",
       "      <td>46-55</td>\n",
       "      <td>male</td>\n",
       "      <td>187.1980</td>\n",
       "      <td>156.630</td>\n",
       "      <td>138.5062</td>\n",
       "      <td>142.1892</td>\n",
       "      <td>1</td>\n",
       "      <td>44.696399</td>\n",
       "      <td>0.974098</td>\n",
       "      <td>...</td>\n",
       "      <td>3-Obesidad</td>\n",
       "      <td>1</td>\n",
       "      <td>1-Alto</td>\n",
       "      <td>1</td>\n",
       "      <td>1-Medio</td>\n",
       "      <td>3</td>\n",
       "      <td>3-Obesidad</td>\n",
       "      <td>4</td>\n",
       "      <td>3</td>\n",
       "      <td>2</td>\n",
       "    </tr>\n",
       "    <tr>\n",
       "      <th>2</th>\n",
       "      <td>50.0</td>\n",
       "      <td>46-55</td>\n",
       "      <td>male</td>\n",
       "      <td>180.5940</td>\n",
       "      <td>98.064</td>\n",
       "      <td>98.3996</td>\n",
       "      <td>109.9058</td>\n",
       "      <td>1</td>\n",
       "      <td>30.067891</td>\n",
       "      <td>0.895309</td>\n",
       "      <td>...</td>\n",
       "      <td>3-Obesidad</td>\n",
       "      <td>1</td>\n",
       "      <td>1-Alto</td>\n",
       "      <td>0</td>\n",
       "      <td>0-Bajo</td>\n",
       "      <td>2</td>\n",
       "      <td>2-Sobrepeso</td>\n",
       "      <td>3</td>\n",
       "      <td>4</td>\n",
       "      <td>2</td>\n",
       "    </tr>\n",
       "    <tr>\n",
       "      <th>3</th>\n",
       "      <td>28.0</td>\n",
       "      <td>26-35</td>\n",
       "      <td>male</td>\n",
       "      <td>182.7022</td>\n",
       "      <td>89.211</td>\n",
       "      <td>97.0026</td>\n",
       "      <td>107.0102</td>\n",
       "      <td>1</td>\n",
       "      <td>26.725809</td>\n",
       "      <td>0.906480</td>\n",
       "      <td>...</td>\n",
       "      <td>2-Sobrepeso</td>\n",
       "      <td>1</td>\n",
       "      <td>1-Alto</td>\n",
       "      <td>0</td>\n",
       "      <td>0-Bajo</td>\n",
       "      <td>2</td>\n",
       "      <td>2-Sobrepeso</td>\n",
       "      <td>3</td>\n",
       "      <td>4</td>\n",
       "      <td>2</td>\n",
       "    </tr>\n",
       "    <tr>\n",
       "      <th>4</th>\n",
       "      <td>52.0</td>\n",
       "      <td>46-55</td>\n",
       "      <td>male</td>\n",
       "      <td>185.9026</td>\n",
       "      <td>113.273</td>\n",
       "      <td>105.9942</td>\n",
       "      <td>111.0996</td>\n",
       "      <td>1</td>\n",
       "      <td>32.775964</td>\n",
       "      <td>0.954047</td>\n",
       "      <td>...</td>\n",
       "      <td>3-Obesidad</td>\n",
       "      <td>1</td>\n",
       "      <td>1-Alto</td>\n",
       "      <td>1</td>\n",
       "      <td>1-Medio</td>\n",
       "      <td>2</td>\n",
       "      <td>2-Sobrepeso</td>\n",
       "      <td>4</td>\n",
       "      <td>3</td>\n",
       "      <td>2</td>\n",
       "    </tr>\n",
       "    <tr>\n",
       "      <th>5</th>\n",
       "      <td>50.0</td>\n",
       "      <td>46-55</td>\n",
       "      <td>male</td>\n",
       "      <td>183.1086</td>\n",
       "      <td>108.279</td>\n",
       "      <td>104.0892</td>\n",
       "      <td>112.3950</td>\n",
       "      <td>1</td>\n",
       "      <td>32.294365</td>\n",
       "      <td>0.926102</td>\n",
       "      <td>...</td>\n",
       "      <td>3-Obesidad</td>\n",
       "      <td>1</td>\n",
       "      <td>1-Alto</td>\n",
       "      <td>0</td>\n",
       "      <td>0-Bajo</td>\n",
       "      <td>2</td>\n",
       "      <td>2-Sobrepeso</td>\n",
       "      <td>3</td>\n",
       "      <td>4</td>\n",
       "      <td>2</td>\n",
       "    </tr>\n",
       "    <tr>\n",
       "      <th>...</th>\n",
       "      <td>...</td>\n",
       "      <td>...</td>\n",
       "      <td>...</td>\n",
       "      <td>...</td>\n",
       "      <td>...</td>\n",
       "      <td>...</td>\n",
       "      <td>...</td>\n",
       "      <td>...</td>\n",
       "      <td>...</td>\n",
       "      <td>...</td>\n",
       "      <td>...</td>\n",
       "      <td>...</td>\n",
       "      <td>...</td>\n",
       "      <td>...</td>\n",
       "      <td>...</td>\n",
       "      <td>...</td>\n",
       "      <td>...</td>\n",
       "      <td>...</td>\n",
       "      <td>...</td>\n",
       "      <td>...</td>\n",
       "      <td>...</td>\n",
       "    </tr>\n",
       "    <tr>\n",
       "      <th>4460</th>\n",
       "      <td>35.0</td>\n",
       "      <td>26-35</td>\n",
       "      <td>female</td>\n",
       "      <td>152.8064</td>\n",
       "      <td>49.259</td>\n",
       "      <td>61.5950</td>\n",
       "      <td>93.0910</td>\n",
       "      <td>0</td>\n",
       "      <td>21.096116</td>\n",
       "      <td>0.661664</td>\n",
       "      <td>...</td>\n",
       "      <td>1-Normal</td>\n",
       "      <td>0</td>\n",
       "      <td>0-Bajo</td>\n",
       "      <td>0</td>\n",
       "      <td>0-Bajo</td>\n",
       "      <td>0</td>\n",
       "      <td>0-Delgado</td>\n",
       "      <td>0</td>\n",
       "      <td>0</td>\n",
       "      <td>0</td>\n",
       "    </tr>\n",
       "    <tr>\n",
       "      <th>4461</th>\n",
       "      <td>40.0</td>\n",
       "      <td>36-45</td>\n",
       "      <td>female</td>\n",
       "      <td>168.6052</td>\n",
       "      <td>67.646</td>\n",
       "      <td>73.8124</td>\n",
       "      <td>100.4062</td>\n",
       "      <td>0</td>\n",
       "      <td>23.795794</td>\n",
       "      <td>0.735138</td>\n",
       "      <td>...</td>\n",
       "      <td>1-Normal</td>\n",
       "      <td>0</td>\n",
       "      <td>0-Bajo</td>\n",
       "      <td>0</td>\n",
       "      <td>0-Bajo</td>\n",
       "      <td>1</td>\n",
       "      <td>1-Sano</td>\n",
       "      <td>0</td>\n",
       "      <td>0</td>\n",
       "      <td>0</td>\n",
       "    </tr>\n",
       "    <tr>\n",
       "      <th>4462</th>\n",
       "      <td>23.0</td>\n",
       "      <td>17-25</td>\n",
       "      <td>female</td>\n",
       "      <td>168.5036</td>\n",
       "      <td>73.775</td>\n",
       "      <td>78.0034</td>\n",
       "      <td>109.7026</td>\n",
       "      <td>0</td>\n",
       "      <td>25.983093</td>\n",
       "      <td>0.711044</td>\n",
       "      <td>...</td>\n",
       "      <td>2-Sobrepeso</td>\n",
       "      <td>0</td>\n",
       "      <td>0-Bajo</td>\n",
       "      <td>0</td>\n",
       "      <td>0-Bajo</td>\n",
       "      <td>1</td>\n",
       "      <td>1-Sano</td>\n",
       "      <td>1</td>\n",
       "      <td>1</td>\n",
       "      <td>0</td>\n",
       "    </tr>\n",
       "    <tr>\n",
       "      <th>4463</th>\n",
       "      <td>24.0</td>\n",
       "      <td>17-25</td>\n",
       "      <td>male</td>\n",
       "      <td>170.5102</td>\n",
       "      <td>65.149</td>\n",
       "      <td>75.7936</td>\n",
       "      <td>97.7900</td>\n",
       "      <td>1</td>\n",
       "      <td>22.408203</td>\n",
       "      <td>0.775065</td>\n",
       "      <td>...</td>\n",
       "      <td>1-Normal</td>\n",
       "      <td>0</td>\n",
       "      <td>0-Bajo</td>\n",
       "      <td>0</td>\n",
       "      <td>0-Bajo</td>\n",
       "      <td>1</td>\n",
       "      <td>1-Sano</td>\n",
       "      <td>0</td>\n",
       "      <td>0</td>\n",
       "      <td>0</td>\n",
       "    </tr>\n",
       "    <tr>\n",
       "      <th>4464</th>\n",
       "      <td>22.0</td>\n",
       "      <td>17-25</td>\n",
       "      <td>female</td>\n",
       "      <td>170.4086</td>\n",
       "      <td>61.290</td>\n",
       "      <td>68.8086</td>\n",
       "      <td>101.6000</td>\n",
       "      <td>0</td>\n",
       "      <td>21.106033</td>\n",
       "      <td>0.677250</td>\n",
       "      <td>...</td>\n",
       "      <td>1-Normal</td>\n",
       "      <td>0</td>\n",
       "      <td>0-Bajo</td>\n",
       "      <td>0</td>\n",
       "      <td>0-Bajo</td>\n",
       "      <td>0</td>\n",
       "      <td>0-Delgado</td>\n",
       "      <td>0</td>\n",
       "      <td>0</td>\n",
       "      <td>0</td>\n",
       "    </tr>\n",
       "  </tbody>\n",
       "</table>\n",
       "<p>4430 rows × 22 columns</p>\n",
       "</div>"
      ],
      "text/plain": [
       "       age age_range  gender    height   weight  waist_circum_preferred  \\\n",
       "1     47.0     46-55    male  187.1980  156.630                138.5062   \n",
       "2     50.0     46-55    male  180.5940   98.064                 98.3996   \n",
       "3     28.0     26-35    male  182.7022   89.211                 97.0026   \n",
       "4     52.0     46-55    male  185.9026  113.273                105.9942   \n",
       "5     50.0     46-55    male  183.1086  108.279                104.0892   \n",
       "...    ...       ...     ...       ...      ...                     ...   \n",
       "4460  35.0     26-35  female  152.8064   49.259                 61.5950   \n",
       "4461  40.0     36-45  female  168.6052   67.646                 73.8124   \n",
       "4462  23.0     17-25  female  168.5036   73.775                 78.0034   \n",
       "4463  24.0     17-25    male  170.5102   65.149                 75.7936   \n",
       "4464  22.0     17-25  female  170.4086   61.290                 68.8086   \n",
       "\n",
       "      hip_circum  gender_bin        bmi       rcc  ...  obesity_bmi_txt  \\\n",
       "1       142.1892           1  44.696399  0.974098  ...       3-Obesidad   \n",
       "2       109.9058           1  30.067891  0.895309  ...       3-Obesidad   \n",
       "3       107.0102           1  26.725809  0.906480  ...      2-Sobrepeso   \n",
       "4       111.0996           1  32.775964  0.954047  ...       3-Obesidad   \n",
       "5       112.3950           1  32.294365  0.926102  ...       3-Obesidad   \n",
       "...          ...         ...        ...       ...  ...              ...   \n",
       "4460     93.0910           0  21.096116  0.661664  ...         1-Normal   \n",
       "4461    100.4062           0  23.795794  0.735138  ...         1-Normal   \n",
       "4462    109.7026           0  25.983093  0.711044  ...      2-Sobrepeso   \n",
       "4463     97.7900           1  22.408203  0.775065  ...         1-Normal   \n",
       "4464    101.6000           0  21.106033  0.677250  ...         1-Normal   \n",
       "\n",
       "      obesity_cc obesity_cc_txt  obesity_rcc obesity_rcc_txt  obesity_ict  \\\n",
       "1              1         1-Alto            1         1-Medio            3   \n",
       "2              1         1-Alto            0          0-Bajo            2   \n",
       "3              1         1-Alto            0          0-Bajo            2   \n",
       "4              1         1-Alto            1         1-Medio            2   \n",
       "5              1         1-Alto            0          0-Bajo            2   \n",
       "...          ...            ...          ...             ...          ...   \n",
       "4460           0         0-Bajo            0          0-Bajo            0   \n",
       "4461           0         0-Bajo            0          0-Bajo            1   \n",
       "4462           0         0-Bajo            0          0-Bajo            1   \n",
       "4463           0         0-Bajo            0          0-Bajo            1   \n",
       "4464           0         0-Bajo            0          0-Bajo            0   \n",
       "\n",
       "     obesity_ict_txt  risk_factors cluster  obesity  \n",
       "1         3-Obesidad             4       3        2  \n",
       "2        2-Sobrepeso             3       4        2  \n",
       "3        2-Sobrepeso             3       4        2  \n",
       "4        2-Sobrepeso             4       3        2  \n",
       "5        2-Sobrepeso             3       4        2  \n",
       "...              ...           ...     ...      ...  \n",
       "4460       0-Delgado             0       0        0  \n",
       "4461          1-Sano             0       0        0  \n",
       "4462          1-Sano             1       1        0  \n",
       "4463          1-Sano             0       0        0  \n",
       "4464       0-Delgado             0       0        0  \n",
       "\n",
       "[4430 rows x 22 columns]"
      ]
     },
     "execution_count": 2,
     "metadata": {},
     "output_type": "execute_result"
    }
   ],
   "source": [
    "# Leemos el archivo\n",
    "CURRENT_DIR = Path.cwd()\n",
    "\n",
    "BASE_DIR = Path(CURRENT_DIR).parent\n",
    "\n",
    "df_obesity = dcf.read_file(f\"{BASE_DIR}/data/out/obesity_labeled.parquet\")\n",
    "\n",
    "df_obesity"
   ]
  },
  {
   "cell_type": "markdown",
   "id": "93195ede",
   "metadata": {},
   "source": [
    "## Separación del dataset\n",
    "\n",
    "1. Selección de columnas\n",
    "2. Separación de la variable objetivo\n",
    "3. División del dataset"
   ]
  },
  {
   "cell_type": "code",
   "execution_count": 3,
   "id": "6802b49e",
   "metadata": {},
   "outputs": [],
   "source": [
    "def select_split_dataset(df, cols_to_leave, var_target, train_proportion, test_proportion):\n",
    "    \n",
    "    cols_to_leave.append(var_target)\n",
    "    \n",
    "    df = dcf.select_data(df, [], cols_to_leave)\n",
    "    \n",
    "    obesity_risk = df[var_target].copy()\n",
    "    obesity_data = df.drop([var_target], axis=1)\n",
    "\n",
    "    original_count = len(df)\n",
    "    training_size = int(original_count * train_proportion)\n",
    "    test_size = int((1 - train_proportion) * test_proportion * training_size)\n",
    "    \n",
    "    train_x, rest_x, train_y, rest_y = train_test_split(obesity_data, \n",
    "                                                        obesity_risk, \n",
    "                                                        train_size=training_size,\n",
    "                                                        stratify=obesity_risk)\n",
    "    test_x, validate_x, test_y, validate_y = train_test_split(rest_x, \n",
    "                                                              rest_y, \n",
    "                                                              train_size=test_size,\n",
    "                                                              stratify=rest_y)\n",
    "\n",
    "    return (train_x, train_y), (validate_x, validate_y), (test_x, test_y)\n",
    "    "
   ]
  },
  {
   "cell_type": "code",
   "execution_count": 4,
   "id": "cf57ca6f",
   "metadata": {},
   "outputs": [],
   "source": [
    "cols_to_leave = ['age',\n",
    "                 'gender_bin',\n",
    "                 'height',\n",
    "                 'weight',\n",
    "                 'waist_circum_preferred',\n",
    "                 'hip_circum']\n",
    "\n",
    "training_data, validate_data, test_data = select_split_dataset(df_obesity, cols_to_leave, 'obesity', \n",
    "                                                        train_proportion=0.6, test_proportion=0.5)\n",
    "\n",
    "train_x=training_data[0]\n",
    "train_y=training_data[1]\n",
    "validate_x=validate_data[0]\n",
    "validate_y=validate_data[1]\n",
    "test_x=test_data[0]\n",
    "test_y=test_data[1]\n",
    "\n"
   ]
  },
  {
   "cell_type": "code",
   "execution_count": 5,
   "id": "c1dcfa36",
   "metadata": {},
   "outputs": [
    {
     "data": {
      "text/plain": [
       "(531, 6)"
      ]
     },
     "execution_count": 5,
     "metadata": {},
     "output_type": "execute_result"
    }
   ],
   "source": [
    "test_x.shape"
   ]
  },
  {
   "cell_type": "markdown",
   "id": "351aadef",
   "metadata": {},
   "source": [
    "## Selección del modelo"
   ]
  },
  {
   "cell_type": "markdown",
   "id": "0aadd126",
   "metadata": {},
   "source": [
    "### Escalado y transformación de datos\n",
    "\n",
    "La función **dcf.transform_df** crea un pipeline con las transformaciones necesarias según los parámetros que le pasamos, aplica:\n",
    "\n",
    "1. one-hot encoder a la columna 'gender' (si especificada en cols_encode)\n",
    "2. ordinal encoder a la columna 'age_range' (si especificada en cols_encode)\n",
    "3. standard scaler a las columnas indicadas en cols_scale\n",
    "4. ignora las columnas en cols_pass"
   ]
  },
  {
   "cell_type": "code",
   "execution_count": 6,
   "id": "8ee3b3ad",
   "metadata": {},
   "outputs": [],
   "source": [
    "cols_encode = []\n",
    "cols_scale = ['age', 'height', 'weight', 'waist_circum_preferred', 'hip_circum']\n",
    "cols_pass = ['gender_bin']\n",
    "\n",
    "X_train_scaled = dcf.transform_df(train_x, cols_encode, cols_scale, cols_pass)\n",
    "X_validate_scaled = dcf.transform_df(validate_x, cols_encode, cols_scale, cols_pass)\n",
    "X_test_scaled = dcf.transform_df(test_x, cols_encode, cols_scale, cols_pass)"
   ]
  },
  {
   "cell_type": "code",
   "execution_count": 7,
   "id": "ca511a0b",
   "metadata": {},
   "outputs": [
    {
     "data": {
      "text/plain": [
       "(531, 6)"
      ]
     },
     "execution_count": 7,
     "metadata": {},
     "output_type": "execute_result"
    }
   ],
   "source": [
    "X_test_scaled.shape"
   ]
  },
  {
   "cell_type": "markdown",
   "id": "499fa3b1",
   "metadata": {},
   "source": [
    "### Inicialización de los algoritmos"
   ]
  },
  {
   "cell_type": "code",
   "execution_count": 8,
   "id": "b3de6c86",
   "metadata": {},
   "outputs": [],
   "source": [
    "log_reg = LogisticRegression(multi_class='multinomial', solver='lbfgs', max_iter=1000, random_state=42)\n",
    "dtree = DecisionTreeClassifier(random_state=42)\n",
    "svm = SVC(kernel='linear', C=1.0, random_state=42)\n",
    "rf = RandomForestClassifier(n_estimators=100, random_state=42)"
   ]
  },
  {
   "cell_type": "markdown",
   "id": "dd7601c0",
   "metadata": {},
   "source": [
    "### Evaluación de diferentes modelos\n",
    "\n",
    "1. Entrenar y evaluar los diferentes modelos\n",
    "2. Comparar resultados y escoger el mejor"
   ]
  },
  {
   "cell_type": "markdown",
   "id": "0a1ca3e2",
   "metadata": {},
   "source": [
    "### Entrenamiento"
   ]
  },
  {
   "cell_type": "code",
   "execution_count": 9,
   "id": "7ebc00e9",
   "metadata": {},
   "outputs": [
    {
     "data": {
      "text/html": [
       "<style>#sk-container-id-1 {color: black;background-color: white;}#sk-container-id-1 pre{padding: 0;}#sk-container-id-1 div.sk-toggleable {background-color: white;}#sk-container-id-1 label.sk-toggleable__label {cursor: pointer;display: block;width: 100%;margin-bottom: 0;padding: 0.3em;box-sizing: border-box;text-align: center;}#sk-container-id-1 label.sk-toggleable__label-arrow:before {content: \"▸\";float: left;margin-right: 0.25em;color: #696969;}#sk-container-id-1 label.sk-toggleable__label-arrow:hover:before {color: black;}#sk-container-id-1 div.sk-estimator:hover label.sk-toggleable__label-arrow:before {color: black;}#sk-container-id-1 div.sk-toggleable__content {max-height: 0;max-width: 0;overflow: hidden;text-align: left;background-color: #f0f8ff;}#sk-container-id-1 div.sk-toggleable__content pre {margin: 0.2em;color: black;border-radius: 0.25em;background-color: #f0f8ff;}#sk-container-id-1 input.sk-toggleable__control:checked~div.sk-toggleable__content {max-height: 200px;max-width: 100%;overflow: auto;}#sk-container-id-1 input.sk-toggleable__control:checked~label.sk-toggleable__label-arrow:before {content: \"▾\";}#sk-container-id-1 div.sk-estimator input.sk-toggleable__control:checked~label.sk-toggleable__label {background-color: #d4ebff;}#sk-container-id-1 div.sk-label input.sk-toggleable__control:checked~label.sk-toggleable__label {background-color: #d4ebff;}#sk-container-id-1 input.sk-hidden--visually {border: 0;clip: rect(1px 1px 1px 1px);clip: rect(1px, 1px, 1px, 1px);height: 1px;margin: -1px;overflow: hidden;padding: 0;position: absolute;width: 1px;}#sk-container-id-1 div.sk-estimator {font-family: monospace;background-color: #f0f8ff;border: 1px dotted black;border-radius: 0.25em;box-sizing: border-box;margin-bottom: 0.5em;}#sk-container-id-1 div.sk-estimator:hover {background-color: #d4ebff;}#sk-container-id-1 div.sk-parallel-item::after {content: \"\";width: 100%;border-bottom: 1px solid gray;flex-grow: 1;}#sk-container-id-1 div.sk-label:hover label.sk-toggleable__label {background-color: #d4ebff;}#sk-container-id-1 div.sk-serial::before {content: \"\";position: absolute;border-left: 1px solid gray;box-sizing: border-box;top: 0;bottom: 0;left: 50%;z-index: 0;}#sk-container-id-1 div.sk-serial {display: flex;flex-direction: column;align-items: center;background-color: white;padding-right: 0.2em;padding-left: 0.2em;position: relative;}#sk-container-id-1 div.sk-item {position: relative;z-index: 1;}#sk-container-id-1 div.sk-parallel {display: flex;align-items: stretch;justify-content: center;background-color: white;position: relative;}#sk-container-id-1 div.sk-item::before, #sk-container-id-1 div.sk-parallel-item::before {content: \"\";position: absolute;border-left: 1px solid gray;box-sizing: border-box;top: 0;bottom: 0;left: 50%;z-index: -1;}#sk-container-id-1 div.sk-parallel-item {display: flex;flex-direction: column;z-index: 1;position: relative;background-color: white;}#sk-container-id-1 div.sk-parallel-item:first-child::after {align-self: flex-end;width: 50%;}#sk-container-id-1 div.sk-parallel-item:last-child::after {align-self: flex-start;width: 50%;}#sk-container-id-1 div.sk-parallel-item:only-child::after {width: 0;}#sk-container-id-1 div.sk-dashed-wrapped {border: 1px dashed gray;margin: 0 0.4em 0.5em 0.4em;box-sizing: border-box;padding-bottom: 0.4em;background-color: white;}#sk-container-id-1 div.sk-label label {font-family: monospace;font-weight: bold;display: inline-block;line-height: 1.2em;}#sk-container-id-1 div.sk-label-container {text-align: center;}#sk-container-id-1 div.sk-container {/* jupyter's `normalize.less` sets `[hidden] { display: none; }` but bootstrap.min.css set `[hidden] { display: none !important; }` so we also need the `!important` here to be able to override the default hidden behavior on the sphinx rendered scikit-learn.org. See: https://github.com/scikit-learn/scikit-learn/issues/21755 */display: inline-block !important;position: relative;}#sk-container-id-1 div.sk-text-repr-fallback {display: none;}</style><div id=\"sk-container-id-1\" class=\"sk-top-container\"><div class=\"sk-text-repr-fallback\"><pre>RandomForestClassifier(random_state=42)</pre><b>In a Jupyter environment, please rerun this cell to show the HTML representation or trust the notebook. <br />On GitHub, the HTML representation is unable to render, please try loading this page with nbviewer.org.</b></div><div class=\"sk-container\" hidden><div class=\"sk-item\"><div class=\"sk-estimator sk-toggleable\"><input class=\"sk-toggleable__control sk-hidden--visually\" id=\"sk-estimator-id-1\" type=\"checkbox\" checked><label for=\"sk-estimator-id-1\" class=\"sk-toggleable__label sk-toggleable__label-arrow\">RandomForestClassifier</label><div class=\"sk-toggleable__content\"><pre>RandomForestClassifier(random_state=42)</pre></div></div></div></div></div>"
      ],
      "text/plain": [
       "RandomForestClassifier(random_state=42)"
      ]
     },
     "execution_count": 9,
     "metadata": {},
     "output_type": "execute_result"
    }
   ],
   "source": [
    "log_reg.fit(X_train_scaled, train_y)\n",
    "dtree.fit(X_train_scaled, train_y)\n",
    "svm.fit(X_train_scaled, train_y)\n",
    "rf.fit(X_train_scaled, train_y)"
   ]
  },
  {
   "cell_type": "markdown",
   "id": "2f36c282",
   "metadata": {},
   "source": [
    "### Validaciones"
   ]
  },
  {
   "cell_type": "code",
   "execution_count": 10,
   "id": "21487e7d",
   "metadata": {},
   "outputs": [],
   "source": [
    "y_pred_log_reg = log_reg.predict(X_test_scaled)\n",
    "y_pred_dtree = dtree.predict(X_test_scaled)\n",
    "y_pred_svm = svm.predict(X_test_scaled)\n",
    "y_pred_rf = rf.predict(X_test_scaled)"
   ]
  },
  {
   "cell_type": "markdown",
   "id": "e4700d4a",
   "metadata": {},
   "source": [
    "### Evaluación del rendimiento"
   ]
  },
  {
   "cell_type": "code",
   "execution_count": 11,
   "id": "047ab264",
   "metadata": {},
   "outputs": [
    {
     "name": "stdout",
     "output_type": "stream",
     "text": [
      "Exactitud de Regresión Logística Multinomial: 0.9171374764595104\n",
      "Exactitud de Árboles de Decisión: 0.9209039548022598\n",
      "Exactitud de SVM: 0.9190207156308852\n",
      "Exactitud de Random Forest: 0.9491525423728814\n",
      "\n",
      "Informe de clasificación para Regresión Logística Multinomial:\n",
      "               precision    recall  f1-score   support\n",
      "\n",
      "           0       0.91      0.97      0.94       287\n",
      "           1       0.81      0.57      0.67        74\n",
      "           2       0.96      0.99      0.97       170\n",
      "\n",
      "    accuracy                           0.92       531\n",
      "   macro avg       0.89      0.84      0.86       531\n",
      "weighted avg       0.91      0.92      0.91       531\n",
      "\n",
      "Informe de clasificación para Árboles de Decisión:\n",
      "               precision    recall  f1-score   support\n",
      "\n",
      "           0       0.92      0.98      0.95       287\n",
      "           1       0.79      0.59      0.68        74\n",
      "           2       0.97      0.96      0.97       170\n",
      "\n",
      "    accuracy                           0.92       531\n",
      "   macro avg       0.89      0.85      0.86       531\n",
      "weighted avg       0.92      0.92      0.92       531\n",
      "\n",
      "Informe de clasificación para SVM:\n",
      "               precision    recall  f1-score   support\n",
      "\n",
      "           0       0.93      0.96      0.94       287\n",
      "           1       0.77      0.64      0.70        74\n",
      "           2       0.96      0.98      0.97       170\n",
      "\n",
      "    accuracy                           0.92       531\n",
      "   macro avg       0.89      0.86      0.87       531\n",
      "weighted avg       0.92      0.92      0.92       531\n",
      "\n",
      "Informe de clasificación para Random Forest:\n",
      "               precision    recall  f1-score   support\n",
      "\n",
      "           0       0.94      0.99      0.97       287\n",
      "           1       0.96      0.69      0.80        74\n",
      "           2       0.95      0.99      0.97       170\n",
      "\n",
      "    accuracy                           0.95       531\n",
      "   macro avg       0.95      0.89      0.91       531\n",
      "weighted avg       0.95      0.95      0.95       531\n",
      "\n"
     ]
    }
   ],
   "source": [
    "# Calcular la precisión de cada clasificador\n",
    "accuracy_log_reg = accuracy_score(test_y, y_pred_log_reg)\n",
    "accuracy_dtree = accuracy_score(test_y, y_pred_dtree)\n",
    "accuracy_svm = accuracy_score(test_y, y_pred_svm)\n",
    "accuracy_rf = accuracy_score(test_y, y_pred_rf)\n",
    "\n",
    "# Imprimir los resultados\n",
    "print(\"Exactitud de Regresión Logística Multinomial:\", accuracy_log_reg)\n",
    "print(\"Exactitud de Árboles de Decisión:\", accuracy_dtree)\n",
    "print(\"Exactitud de SVM:\", accuracy_svm)\n",
    "print(\"Exactitud de Random Forest:\", accuracy_rf)\n",
    "\n",
    "# Informe detallado de la clasificación\n",
    "print(\"\\nInforme de clasificación para Regresión Logística Multinomial:\\n\", classification_report(test_y, y_pred_log_reg))\n",
    "print(\"Informe de clasificación para Árboles de Decisión:\\n\", classification_report(test_y, y_pred_dtree))\n",
    "print(\"Informe de clasificación para SVM:\\n\", classification_report(test_y, y_pred_svm))\n",
    "print(\"Informe de clasificación para Random Forest:\\n\", classification_report(test_y, y_pred_rf))\n"
   ]
  },
  {
   "cell_type": "markdown",
   "id": "a4faabae",
   "metadata": {},
   "source": [
    "### Conclusión:\n",
    "\n",
    "Escogeré los modelos árboles de decisión y ramdon forest para buscar mejores resultados."
   ]
  },
  {
   "cell_type": "code",
   "execution_count": 12,
   "id": "ebd80da0",
   "metadata": {},
   "outputs": [],
   "source": [
    "def create_confusion_matrix(y_real, y_pred):\n",
    "\n",
    "    # Crear la matriz de confusión\n",
    "    cm = confusion_matrix(y_real, y_pred)\n",
    "\n",
    "    # Etiquetas de las clases (en este caso, 0 y 1)\n",
    "    class_names = [\"Clase 0\", \"Clase 1\"]\n",
    "\n",
    "    # Crear el gráfico de la matriz de confusión\n",
    "    plt.figure(figsize=(6, 6))\n",
    "    sns.heatmap(cm, annot=True, fmt=\"d\", cmap=\"Blues\", xticklabels=class_names, yticklabels=class_names)\n",
    "    plt.xlabel(\"Predicción\")\n",
    "    plt.ylabel(\"Real\")\n",
    "    plt.title(\"Matriz de Confusión\")\n",
    "    plt.show()"
   ]
  },
  {
   "cell_type": "code",
   "execution_count": null,
   "id": "c9adc3ff",
   "metadata": {},
   "outputs": [],
   "source": []
  },
  {
   "cell_type": "code",
   "execution_count": 13,
   "id": "06fcf7f3",
   "metadata": {},
   "outputs": [],
   "source": [
    "def print_report(params):\n",
    "    \n",
    "    dataset = params['dataset']\n",
    "    accuracy_dtree = params['accuracy_dtree']\n",
    "    accuracy_rf = params['accuracy_rf']\n",
    "    test_y = params['test_y']\n",
    "    y_pred_dtree = params['y_pred_dtree']\n",
    "    y_pred_rf = params['y_pred_rf']\n",
    "    \n",
    "    # Imprimir los resultados\n",
    "    \n",
    "    print(f\"\\nResultados para los datos de {dataset}:\\n\")\n",
    "    \n",
    "    print(\"Exactitud de Árboles de Decisión:\", accuracy_dtree)\n",
    "    print(\"Exactitud de Random Forest:\", accuracy_rf)\n",
    "\n",
    "    # Informe detallado de la clasificación\n",
    "    print(\"\\nInforme de clasificación para Árboles de Decisión:\\n\", classification_report(test_y, y_pred_dtree))\n",
    "    print(\"Informe de clasificación para Random Forest:\\n\", classification_report(test_y, y_pred_rf))\n",
    "    \n",
    "    print(\"\\nMatriz de confusión para Árboles de Decisión:\\n\")\n",
    "    create_confusion_matrix(test_y, y_pred_dtree)\n",
    "    \n",
    "    print(\"\\nMatriz de confusión para Ramdon Forest:\\n\")\n",
    "    create_confusion_matrix(test_y, y_pred_rf)"
   ]
  },
  {
   "cell_type": "code",
   "execution_count": 14,
   "id": "c7d40bb3",
   "metadata": {},
   "outputs": [],
   "source": [
    "def test_models(df, params):\n",
    "    \n",
    "    var_target = params['var_target']\n",
    "    cols_leave = params['cols_leave']\n",
    "    cols_encode = params['cols_encode']\n",
    "    cols_scale = params['cols_scale']\n",
    "    cols_pass = params['cols_pass']\n",
    "    train_proportion = params['train_proportion']\n",
    "    test_proportion = params['test_proportion']\n",
    "    \n",
    "    # Divide el dataframe\n",
    "    training_data, validate_data, test_data = select_split_dataset(df, cols_leave, var_target, \n",
    "                                                                   train_proportion=train_proportion, \n",
    "                                                                   test_proportion=test_proportion)\n",
    "\n",
    "    train_x=training_data[0]\n",
    "    train_y=training_data[1]\n",
    "    validate_x=validate_data[0]\n",
    "    validate_y=validate_data[1]\n",
    "    test_x=test_data[0]\n",
    "    test_y=test_data[1]\n",
    "    \n",
    "    # Transforma los datos \n",
    "    X_train_scaled = dcf.transform_df(train_x, cols_encode, cols_scale, cols_pass)\n",
    "    X_validate_scaled = dcf.transform_df(validate_x, cols_encode, cols_scale, cols_pass)\n",
    "    X_test_scaled = dcf.transform_df(test_x, cols_encode, cols_scale, cols_pass)\n",
    "    \n",
    "    # Crea los modelos\n",
    "    dtree = DecisionTreeClassifier(random_state=42)\n",
    "    rf = RandomForestClassifier(n_estimators=100, random_state=42)\n",
    "    \n",
    "    # Entrena los modelos\n",
    "    dtree.fit(X_train_scaled, train_y)\n",
    "    rf.fit(X_train_scaled, train_y)\n",
    "    \n",
    "    # Prueba los modelos entrenados\n",
    "    y_pred_dtree = dtree.predict(X_test_scaled)\n",
    "    y_pred_rf = rf.predict(X_test_scaled)\n",
    "    \n",
    "    # Valida los modelos\n",
    "    y_pred_val_dtree = dtree.predict(X_validate_scaled)\n",
    "    y_pred_val_rf = rf.predict(X_validate_scaled)\n",
    "    \n",
    "    # Muestra y compara las métricas\n",
    "    \n",
    "    # Calcular la precisión de cada clasificador\n",
    "    accuracy_dtree = accuracy_score(test_y, y_pred_dtree)\n",
    "    accuracy_rf = accuracy_score(test_y, y_pred_rf)\n",
    "    \n",
    "    accuracy_val_dtree = accuracy_score(validate_y, y_pred_val_dtree)\n",
    "    accuracy_val_rf = accuracy_score(validate_y, y_pred_val_rf)\n",
    "    \n",
    "    params_test = {\n",
    "        'dataset': 'Test',\n",
    "        'accuracy_dtree': accuracy_dtree,\n",
    "        'accuracy_rf': accuracy_rf,\n",
    "        'test_y': test_y,\n",
    "        'y_pred_dtree': y_pred_dtree,\n",
    "        'y_pred_rf': y_pred_rf\n",
    "    }\n",
    "    \n",
    "    print_report(params_test)\n",
    "    \n",
    "    params_test = {\n",
    "        'dataset': 'Validate',\n",
    "        'accuracy_dtree': accuracy_val_dtree,\n",
    "        'accuracy_rf': accuracy_val_rf,\n",
    "        'test_y': validate_y,\n",
    "        'y_pred_dtree': y_pred_val_dtree,\n",
    "        'y_pred_rf': y_pred_val_rf\n",
    "    }\n",
    "    \n",
    "    print_report(params_test)"
   ]
  },
  {
   "cell_type": "markdown",
   "id": "e004f1be",
   "metadata": {},
   "source": [
    "## Pruebas con diferentes columnas"
   ]
  },
  {
   "cell_type": "code",
   "execution_count": 15,
   "id": "793c6378",
   "metadata": {},
   "outputs": [
    {
     "name": "stdout",
     "output_type": "stream",
     "text": [
      "\n",
      "Resultados para los datos de Test:\n",
      "\n",
      "Exactitud de Árboles de Decisión: 0.9472693032015066\n",
      "Exactitud de Random Forest: 0.9529190207156308\n",
      "\n",
      "Informe de clasificación para Árboles de Decisión:\n",
      "               precision    recall  f1-score   support\n",
      "\n",
      "           0       0.96      0.96      0.96       287\n",
      "           1       0.81      0.86      0.84        74\n",
      "           2       0.98      0.96      0.97       170\n",
      "\n",
      "    accuracy                           0.95       531\n",
      "   macro avg       0.92      0.93      0.92       531\n",
      "weighted avg       0.95      0.95      0.95       531\n",
      "\n",
      "Informe de clasificación para Random Forest:\n",
      "               precision    recall  f1-score   support\n",
      "\n",
      "           0       0.95      0.98      0.97       287\n",
      "           1       0.96      0.73      0.83        74\n",
      "           2       0.96      1.00      0.98       170\n",
      "\n",
      "    accuracy                           0.95       531\n",
      "   macro avg       0.96      0.90      0.92       531\n",
      "weighted avg       0.95      0.95      0.95       531\n",
      "\n",
      "\n",
      "Matriz de confusión para Árboles de Decisión:\n",
      "\n"
     ]
    },
    {
     "data": {
      "image/png": "[encoded data removed]",
      "text/plain": [
       "<Figure size 432x432 with 2 Axes>"
      ]
     },
     "metadata": {
      "needs_background": "light"
     },
     "output_type": "display_data"
    },
    {
     "name": "stdout",
     "output_type": "stream",
     "text": [
      "\n",
      "Matriz de confusión para Ramdon Forest:\n",
      "\n"
     ]
    },
    {
     "data": {
      "image/png": "[encoded data removed]",
      "text/plain": [
       "<Figure size 432x432 with 2 Axes>"
      ]
     },
     "metadata": {
      "needs_background": "light"
     },
     "output_type": "display_data"
    },
    {
     "name": "stdout",
     "output_type": "stream",
     "text": [
      "\n",
      "Resultados para los datos de Validate:\n",
      "\n",
      "Exactitud de Árboles de Decisión: 0.9234488315874295\n",
      "Exactitud de Random Forest: 0.9419822723609992\n",
      "\n",
      "Informe de clasificación para Árboles de Decisión:\n",
      "               precision    recall  f1-score   support\n",
      "\n",
      "           0       0.94      0.96      0.95       672\n",
      "           1       0.75      0.72      0.73       173\n",
      "           2       0.97      0.94      0.96       396\n",
      "\n",
      "    accuracy                           0.92      1241\n",
      "   macro avg       0.89      0.88      0.88      1241\n",
      "weighted avg       0.92      0.92      0.92      1241\n",
      "\n",
      "Informe de clasificación para Random Forest:\n",
      "               precision    recall  f1-score   support\n",
      "\n",
      "           0       0.93      0.99      0.96       672\n",
      "           1       0.91      0.66      0.77       173\n",
      "           2       0.97      0.98      0.97       396\n",
      "\n",
      "    accuracy                           0.94      1241\n",
      "   macro avg       0.94      0.88      0.90      1241\n",
      "weighted avg       0.94      0.94      0.94      1241\n",
      "\n",
      "\n",
      "Matriz de confusión para Árboles de Decisión:\n",
      "\n"
     ]
    },
    {
     "data": {
      "image/png": "[encoded data removed]",
      "text/plain": [
       "<Figure size 432x432 with 2 Axes>"
      ]
     },
     "metadata": {
      "needs_background": "light"
     },
     "output_type": "display_data"
    },
    {
     "name": "stdout",
     "output_type": "stream",
     "text": [
      "\n",
      "Matriz de confusión para Ramdon Forest:\n",
      "\n"
     ]
    },
    {
     "data": {
      "image/png": "[encoded data removed]",
      "text/plain": [
       "<Figure size 432x432 with 2 Axes>"
      ]
     },
     "metadata": {
      "needs_background": "light"
     },
     "output_type": "display_data"
    }
   ],
   "source": [
    "params = {\n",
    "    'var_target': 'obesity',\n",
    "    'cols_leave': ['age', 'gender_bin', 'height', 'weight', 'waist_circum_preferred', 'hip_circum'],\n",
    "    'cols_encode': [],\n",
    "    'cols_scale': ['age', 'height', 'weight', 'waist_circum_preferred', 'hip_circum'],\n",
    "    'cols_pass': ['gender_bin'],\n",
    "    'train_proportion': 0.6,\n",
    "    'test_proportion': 0.5\n",
    "}\n",
    "\n",
    "test_models(df_obesity, params)"
   ]
  },
  {
   "cell_type": "code",
   "execution_count": 16,
   "id": "afaed3bc",
   "metadata": {},
   "outputs": [
    {
     "name": "stdout",
     "output_type": "stream",
     "text": [
      "\n",
      "Resultados para los datos de Test:\n",
      "\n",
      "Exactitud de Árboles de Decisión: 0.9246704331450094\n",
      "Exactitud de Random Forest: 0.9397363465160076\n",
      "\n",
      "Informe de clasificación para Árboles de Decisión:\n",
      "               precision    recall  f1-score   support\n",
      "\n",
      "           0       0.95      0.99      0.97       287\n",
      "           1       0.72      0.74      0.73        74\n",
      "           2       0.97      0.89      0.93       170\n",
      "\n",
      "    accuracy                           0.92       531\n",
      "   macro avg       0.88      0.87      0.88       531\n",
      "weighted avg       0.93      0.92      0.92       531\n",
      "\n",
      "Informe de clasificación para Random Forest:\n",
      "               precision    recall  f1-score   support\n",
      "\n",
      "           0       0.95      1.00      0.97       287\n",
      "           1       0.80      0.76      0.78        74\n",
      "           2       0.98      0.92      0.95       170\n",
      "\n",
      "    accuracy                           0.94       531\n",
      "   macro avg       0.91      0.89      0.90       531\n",
      "weighted avg       0.94      0.94      0.94       531\n",
      "\n",
      "\n",
      "Matriz de confusión para Árboles de Decisión:\n",
      "\n"
     ]
    },
    {
     "data": {
      "image/png": "[encoded data removed]",
      "text/plain": [
       "<Figure size 432x432 with 2 Axes>"
      ]
     },
     "metadata": {
      "needs_background": "light"
     },
     "output_type": "display_data"
    },
    {
     "name": "stdout",
     "output_type": "stream",
     "text": [
      "\n",
      "Matriz de confusión para Ramdon Forest:\n",
      "\n"
     ]
    },
    {
     "data": {
      "image/png": "[encoded data removed]",
      "text/plain": [
       "<Figure size 432x432 with 2 Axes>"
      ]
     },
     "metadata": {
      "needs_background": "light"
     },
     "output_type": "display_data"
    },
    {
     "name": "stdout",
     "output_type": "stream",
     "text": [
      "\n",
      "Resultados para los datos de Validate:\n",
      "\n",
      "Exactitud de Árboles de Decisión: 0.943593875906527\n",
      "Exactitud de Random Forest: 0.9468170829975826\n",
      "\n",
      "Informe de clasificación para Árboles de Decisión:\n",
      "               precision    recall  f1-score   support\n",
      "\n",
      "           0       0.95      1.00      0.97       672\n",
      "           1       0.83      0.76      0.80       173\n",
      "           2       0.99      0.93      0.96       396\n",
      "\n",
      "    accuracy                           0.94      1241\n",
      "   macro avg       0.92      0.90      0.91      1241\n",
      "weighted avg       0.94      0.94      0.94      1241\n",
      "\n",
      "Informe de clasificación para Random Forest:\n",
      "               precision    recall  f1-score   support\n",
      "\n",
      "           0       0.95      1.00      0.97       672\n",
      "           1       0.86      0.76      0.80       173\n",
      "           2       0.99      0.94      0.96       396\n",
      "\n",
      "    accuracy                           0.95      1241\n",
      "   macro avg       0.93      0.90      0.91      1241\n",
      "weighted avg       0.95      0.95      0.95      1241\n",
      "\n",
      "\n",
      "Matriz de confusión para Árboles de Decisión:\n",
      "\n"
     ]
    },
    {
     "data": {
      "image/png": "[encoded data removed]",
      "text/plain": [
       "<Figure size 432x432 with 2 Axes>"
      ]
     },
     "metadata": {
      "needs_background": "light"
     },
     "output_type": "display_data"
    },
    {
     "name": "stdout",
     "output_type": "stream",
     "text": [
      "\n",
      "Matriz de confusión para Ramdon Forest:\n",
      "\n"
     ]
    },
    {
     "data": {
      "image/png": "[encoded data removed]",
      "text/plain": [
       "<Figure size 432x432 with 2 Axes>"
      ]
     },
     "metadata": {
      "needs_background": "light"
     },
     "output_type": "display_data"
    }
   ],
   "source": [
    "params = {\n",
    "    'var_target': 'obesity',\n",
    "    'cols_leave': ['age', 'gender_bin', 'waist_circum_preferred', 'bmi', 'rcc', 'ict'],\n",
    "    'cols_encode': [],\n",
    "    'cols_scale': ['age', 'waist_circum_preferred', 'bmi', 'rcc', 'ict'],\n",
    "    'cols_pass': ['gender_bin'],\n",
    "    'train_proportion': 0.6,\n",
    "    'test_proportion': 0.5\n",
    "}\n",
    "\n",
    "test_models(df_obesity, params)"
   ]
  },
  {
   "cell_type": "code",
   "execution_count": 17,
   "id": "7fb9d457",
   "metadata": {},
   "outputs": [
    {
     "name": "stdout",
     "output_type": "stream",
     "text": [
      "\n",
      "Resultados para los datos de Test:\n",
      "\n",
      "Exactitud de Árboles de Decisión: 0.9698681732580038\n",
      "Exactitud de Random Forest: 0.9698681732580038\n",
      "\n",
      "Informe de clasificación para Árboles de Decisión:\n",
      "               precision    recall  f1-score   support\n",
      "\n",
      "           0       0.98      0.99      0.99       287\n",
      "           1       0.90      0.88      0.89        74\n",
      "           2       0.98      0.97      0.98       170\n",
      "\n",
      "    accuracy                           0.97       531\n",
      "   macro avg       0.95      0.95      0.95       531\n",
      "weighted avg       0.97      0.97      0.97       531\n",
      "\n",
      "Informe de clasificación para Random Forest:\n",
      "               precision    recall  f1-score   support\n",
      "\n",
      "           0       0.98      1.00      0.99       287\n",
      "           1       0.91      0.86      0.89        74\n",
      "           2       0.98      0.97      0.97       170\n",
      "\n",
      "    accuracy                           0.97       531\n",
      "   macro avg       0.96      0.94      0.95       531\n",
      "weighted avg       0.97      0.97      0.97       531\n",
      "\n",
      "\n",
      "Matriz de confusión para Árboles de Decisión:\n",
      "\n"
     ]
    },
    {
     "data": {
      "image/png": "[encoded data removed]",
      "text/plain": [
       "<Figure size 432x432 with 2 Axes>"
      ]
     },
     "metadata": {
      "needs_background": "light"
     },
     "output_type": "display_data"
    },
    {
     "name": "stdout",
     "output_type": "stream",
     "text": [
      "\n",
      "Matriz de confusión para Ramdon Forest:\n",
      "\n"
     ]
    },
    {
     "data": {
      "image/png": "[encoded data removed]",
      "text/plain": [
       "<Figure size 432x432 with 2 Axes>"
      ]
     },
     "metadata": {
      "needs_background": "light"
     },
     "output_type": "display_data"
    },
    {
     "name": "stdout",
     "output_type": "stream",
     "text": [
      "\n",
      "Resultados para los datos de Validate:\n",
      "\n",
      "Exactitud de Árboles de Decisión: 0.9822723609991942\n",
      "Exactitud de Random Forest: 0.9798549556809025\n",
      "\n",
      "Informe de clasificación para Árboles de Decisión:\n",
      "               precision    recall  f1-score   support\n",
      "\n",
      "           0       0.98      1.00      0.99       672\n",
      "           1       0.95      0.92      0.94       173\n",
      "           2       0.99      0.98      0.99       396\n",
      "\n",
      "    accuracy                           0.98      1241\n",
      "   macro avg       0.98      0.97      0.97      1241\n",
      "weighted avg       0.98      0.98      0.98      1241\n",
      "\n",
      "Informe de clasificación para Random Forest:\n",
      "               precision    recall  f1-score   support\n",
      "\n",
      "           0       0.98      1.00      0.99       672\n",
      "           1       0.96      0.90      0.93       173\n",
      "           2       0.99      0.98      0.99       396\n",
      "\n",
      "    accuracy                           0.98      1241\n",
      "   macro avg       0.98      0.96      0.97      1241\n",
      "weighted avg       0.98      0.98      0.98      1241\n",
      "\n",
      "\n",
      "Matriz de confusión para Árboles de Decisión:\n",
      "\n"
     ]
    },
    {
     "data": {
      "image/png": "[encoded data removed]",
      "text/plain": [
       "<Figure size 432x432 with 2 Axes>"
      ]
     },
     "metadata": {
      "needs_background": "light"
     },
     "output_type": "display_data"
    },
    {
     "name": "stdout",
     "output_type": "stream",
     "text": [
      "\n",
      "Matriz de confusión para Ramdon Forest:\n",
      "\n"
     ]
    },
    {
     "data": {
      "image/png": "[encoded data removed]",
      "text/plain": [
       "<Figure size 432x432 with 2 Axes>"
      ]
     },
     "metadata": {
      "needs_background": "light"
     },
     "output_type": "display_data"
    }
   ],
   "source": [
    "params = {\n",
    "    'var_target': 'obesity',\n",
    "    'cols_leave': ['age', 'gender_bin', 'waist_circum_preferred', 'bmi', 'rcc', 'ict'],\n",
    "    'cols_encode': [],\n",
    "    'cols_scale': ['age', 'waist_circum_preferred'],\n",
    "    'cols_pass': ['gender_bin', 'bmi', 'rcc', 'ict'],\n",
    "    'train_proportion': 0.6,\n",
    "    'test_proportion': 0.5\n",
    "}\n",
    "\n",
    "test_models(df_obesity, params)"
   ]
  },
  {
   "cell_type": "code",
   "execution_count": 18,
   "id": "8f661ff4",
   "metadata": {},
   "outputs": [
    {
     "name": "stdout",
     "output_type": "stream",
     "text": [
      "\n",
      "Resultados para los datos de Test:\n",
      "\n",
      "Exactitud de Árboles de Decisión: 1.0\n",
      "Exactitud de Random Forest: 1.0\n",
      "\n",
      "Informe de clasificación para Árboles de Decisión:\n",
      "               precision    recall  f1-score   support\n",
      "\n",
      "           0       1.00      1.00      1.00       287\n",
      "           1       1.00      1.00      1.00        74\n",
      "           2       1.00      1.00      1.00       170\n",
      "\n",
      "    accuracy                           1.00       531\n",
      "   macro avg       1.00      1.00      1.00       531\n",
      "weighted avg       1.00      1.00      1.00       531\n",
      "\n",
      "Informe de clasificación para Random Forest:\n",
      "               precision    recall  f1-score   support\n",
      "\n",
      "           0       1.00      1.00      1.00       287\n",
      "           1       1.00      1.00      1.00        74\n",
      "           2       1.00      1.00      1.00       170\n",
      "\n",
      "    accuracy                           1.00       531\n",
      "   macro avg       1.00      1.00      1.00       531\n",
      "weighted avg       1.00      1.00      1.00       531\n",
      "\n",
      "\n",
      "Matriz de confusión para Árboles de Decisión:\n",
      "\n"
     ]
    },
    {
     "data": {
      "image/png": "[encoded data removed]",
      "text/plain": [
       "<Figure size 432x432 with 2 Axes>"
      ]
     },
     "metadata": {
      "needs_background": "light"
     },
     "output_type": "display_data"
    },
    {
     "name": "stdout",
     "output_type": "stream",
     "text": [
      "\n",
      "Matriz de confusión para Ramdon Forest:\n",
      "\n"
     ]
    },
    {
     "data": {
      "image/png": "[encoded data removed]",
      "text/plain": [
       "<Figure size 432x432 with 2 Axes>"
      ]
     },
     "metadata": {
      "needs_background": "light"
     },
     "output_type": "display_data"
    },
    {
     "name": "stdout",
     "output_type": "stream",
     "text": [
      "\n",
      "Resultados para los datos de Validate:\n",
      "\n",
      "Exactitud de Árboles de Decisión: 0.9991941982272361\n",
      "Exactitud de Random Forest: 0.9991941982272361\n",
      "\n",
      "Informe de clasificación para Árboles de Decisión:\n",
      "               precision    recall  f1-score   support\n",
      "\n",
      "           0       1.00      1.00      1.00       672\n",
      "           1       1.00      0.99      1.00       173\n",
      "           2       1.00      1.00      1.00       396\n",
      "\n",
      "    accuracy                           1.00      1241\n",
      "   macro avg       1.00      1.00      1.00      1241\n",
      "weighted avg       1.00      1.00      1.00      1241\n",
      "\n",
      "Informe de clasificación para Random Forest:\n",
      "               precision    recall  f1-score   support\n",
      "\n",
      "           0       1.00      1.00      1.00       672\n",
      "           1       1.00      0.99      1.00       173\n",
      "           2       1.00      1.00      1.00       396\n",
      "\n",
      "    accuracy                           1.00      1241\n",
      "   macro avg       1.00      1.00      1.00      1241\n",
      "weighted avg       1.00      1.00      1.00      1241\n",
      "\n",
      "\n",
      "Matriz de confusión para Árboles de Decisión:\n",
      "\n"
     ]
    },
    {
     "data": {
      "image/png": "[encoded data removed]",
      "text/plain": [
       "<Figure size 432x432 with 2 Axes>"
      ]
     },
     "metadata": {
      "needs_background": "light"
     },
     "output_type": "display_data"
    },
    {
     "name": "stdout",
     "output_type": "stream",
     "text": [
      "\n",
      "Matriz de confusión para Ramdon Forest:\n",
      "\n"
     ]
    },
    {
     "data": {
      "image/png": "[encoded data removed]",
      "text/plain": [
       "<Figure size 432x432 with 2 Axes>"
      ]
     },
     "metadata": {
      "needs_background": "light"
     },
     "output_type": "display_data"
    }
   ],
   "source": [
    "params = {\n",
    "    'var_target': 'obesity',\n",
    "    'cols_leave': ['age', 'gender_bin', 'obesity_cc', 'obesity_bmi', 'obesity_rcc', 'obesity_ict'],\n",
    "    'cols_encode': [],\n",
    "    'cols_scale': [],\n",
    "    'cols_pass': ['age', 'gender_bin', 'obesity_cc', 'obesity_bmi', 'obesity_rcc', 'obesity_ict'],\n",
    "    'train_proportion': 0.6,\n",
    "    'test_proportion': 0.5\n",
    "}\n",
    "\n",
    "test_models(df_obesity, params)"
   ]
  },
  {
   "cell_type": "markdown",
   "id": "56d51510",
   "metadata": {},
   "source": [
    "## Conclusión y escogencia del modelo:\n",
    "\n",
    "Los mejores resultados se obtienen con **Ramdon Forest** utilizando las variables:\n",
    "\n",
    "**age, gender_bin, obesity_cc, obesity_bmi, obesity_rcc, obesity_ict**\n",
    "\n",
    "sin ningún tipo de transformación."
   ]
  },
  {
   "cell_type": "markdown",
   "id": "7c3936a6",
   "metadata": {},
   "source": [
    "## Workflow para guardar el modelo\n",
    "\n",
    "1. Cargar los datos etiquetados\n",
    "2. Seleccionar las columnas\n",
    "3. Eliminar la variable objetivo\n",
    "4. Transformación de los datos (aunque en este caso no se hace ninguna transformación)\n",
    "5. Entrenar el modelo con todos los datos\n",
    "6. Guardar el modelo\n"
   ]
  },
  {
   "cell_type": "code",
   "execution_count": 19,
   "id": "b103a469",
   "metadata": {},
   "outputs": [],
   "source": [
    "def save_model():\n",
    "    \n",
    "    CURRENT_DIR = Path.cwd()\n",
    "\n",
    "    BASE_DIR = Path(CURRENT_DIR).parent\n",
    "\n",
    "    df_obesity = dcf.read_file(f\"{BASE_DIR}/data/out/obesity_labeled.parquet\")\n",
    "    \n",
    "    cols_to_leave = ['age', 'gender_bin', 'obesity_cc', 'obesity_bmi', 'obesity_rcc', 'obesity_ict', 'obesity']\n",
    "      \n",
    "    df_train = dcf.select_data(df_obesity, [], cols_to_leave)\n",
    "    \n",
    "    Y_train = df_train['obesity'].copy()\n",
    "    obesity_data = df_train.drop(['obesity'], axis=1)\n",
    "    \n",
    "    cols_encode = []\n",
    "    cols_scale = []\n",
    "    cols_pass = ['age', 'gender_bin', 'obesity_cc', 'obesity_bmi', 'obesity_rcc', 'obesity_ict']\n",
    "    \n",
    "    # Transformo los datos \n",
    "    X_train_scaled = dcf.transform_df(obesity_data, cols_encode, cols_scale, cols_pass)\n",
    "\n",
    "    # Creo el modelo\n",
    "    model = RandomForestClassifier(n_estimators=100, random_state=42)\n",
    "    \n",
    "    # Entreno los modelos\n",
    "    model.fit(X_train_scaled, Y_train)\n",
    "    \n",
    "    # save the model to a file\n",
    "    with open(f\"{BASE_DIR}/models/rf_obesity.pkl\", \"wb\") as f:\n",
    "        pickle.dump(model, f)\n",
    "    "
   ]
  },
  {
   "cell_type": "code",
   "execution_count": 20,
   "id": "5bd0c650",
   "metadata": {},
   "outputs": [],
   "source": [
    "save_model()"
   ]
  },
  {
   "cell_type": "markdown",
   "id": "78f2e527",
   "metadata": {},
   "source": [
    "## Workflow para hacer una predicción para una persona\n",
    "\n",
    "Parto del principio que esto estará en una API y que se recibe y se envía un JSON:\n",
    "\n",
    "**Entrada:** Un JSON con la siguiente información para una persona: Edad, género, peso, estatura, contorno de cintura y contorno de cadera\n",
    "\n",
    "**Salida:** Indicadores calculados y variable **obesity**: \n",
    "\n",
    "**Pasos:**\n",
    "\n",
    "1. Trasformar de JSON a dataframe\n",
    "2. Calcular los indicadores\n",
    "3. Seleccionar sólo las columnas que nos interesan para el modelo\n",
    "4. Cargar el modelo \n",
    "5. Hacer la predicción con el modelo ya entrenado\n",
    "6. Devolver el resultado\n",
    "\n",
    "\n"
   ]
  },
  {
   "cell_type": "code",
   "execution_count": 21,
   "id": "e610346b",
   "metadata": {},
   "outputs": [],
   "source": [
    "def make_obesity_prediction(person):\n",
    "\n",
    "    CURRENT_DIR = Path.cwd()\n",
    "    BASE_DIR = Path(CURRENT_DIR).parent\n",
    "    \n",
    "    df_person = pd.read_json(person, orient='records')\n",
    "\n",
    "    df_person_transformed = custom_calculus(df_person)\n",
    "\n",
    "    cols_to_leave = ['age', 'gender_bin', 'obesity_cc', 'obesity_bmi', 'obesity_rcc', 'obesity_ict']\n",
    "\n",
    "    df_person_transformed = dcf.select_data(df_person_transformed, [], cols_to_leave)\n",
    "\n",
    "    with open(f\"{BASE_DIR}/models/rf_obesity.pkl\", \"rb\") as f:\n",
    "        trained_model = pickle.load(f)\n",
    "\n",
    "    df_person['obesity'] = trained_model.predict(df_person_transformed) \n",
    "\n",
    "    return df_person.to_json(orient = 'records')"
   ]
  },
  {
   "cell_type": "code",
   "execution_count": 22,
   "id": "1c535a46",
   "metadata": {},
   "outputs": [],
   "source": [
    "person = [{\n",
    "    'age': 30,\n",
    "    'gender': 'female',\n",
    "    'height': 154.01,\n",
    "    'weight': 51.20,\n",
    "    'waist_circum_preferred': 79.0,\n",
    "    'hip_circum': 96\n",
    "}]\n",
    "\n",
    "person = json.dumps(person) "
   ]
  },
  {
   "cell_type": "code",
   "execution_count": 23,
   "id": "1a2b7542",
   "metadata": {},
   "outputs": [
    {
     "name": "stderr",
     "output_type": "stream",
     "text": [
      "/home/diana/anaconda3/lib/python3.8/site-packages/sklearn/base.py:432: UserWarning: X has feature names, but RandomForestClassifier was fitted without feature names\n",
      "  warnings.warn(\n"
     ]
    },
    {
     "data": {
      "text/html": [
       "<div>\n",
       "<style scoped>\n",
       "    .dataframe tbody tr th:only-of-type {\n",
       "        vertical-align: middle;\n",
       "    }\n",
       "\n",
       "    .dataframe tbody tr th {\n",
       "        vertical-align: top;\n",
       "    }\n",
       "\n",
       "    .dataframe thead th {\n",
       "        text-align: right;\n",
       "    }\n",
       "</style>\n",
       "<table border=\"1\" class=\"dataframe\">\n",
       "  <thead>\n",
       "    <tr style=\"text-align: right;\">\n",
       "      <th></th>\n",
       "      <th>age</th>\n",
       "      <th>gender</th>\n",
       "      <th>height</th>\n",
       "      <th>weight</th>\n",
       "      <th>waist_circum_preferred</th>\n",
       "      <th>hip_circum</th>\n",
       "      <th>gender_bin</th>\n",
       "      <th>bmi</th>\n",
       "      <th>rcc</th>\n",
       "      <th>ict</th>\n",
       "      <th>obesity_bmi</th>\n",
       "      <th>obesity_bmi_txt</th>\n",
       "      <th>obesity_cc</th>\n",
       "      <th>obesity_cc_txt</th>\n",
       "      <th>obesity_rcc</th>\n",
       "      <th>obesity_rcc_txt</th>\n",
       "      <th>obesity_ict</th>\n",
       "      <th>obesity_ict_txt</th>\n",
       "      <th>risk_factors</th>\n",
       "      <th>obesity</th>\n",
       "    </tr>\n",
       "  </thead>\n",
       "  <tbody>\n",
       "    <tr>\n",
       "      <th>0</th>\n",
       "      <td>30</td>\n",
       "      <td>female</td>\n",
       "      <td>154.01</td>\n",
       "      <td>51.2</td>\n",
       "      <td>79</td>\n",
       "      <td>96</td>\n",
       "      <td>0</td>\n",
       "      <td>21.585997</td>\n",
       "      <td>0.822917</td>\n",
       "      <td>0.512954</td>\n",
       "      <td>1</td>\n",
       "      <td>1-Normal</td>\n",
       "      <td>0</td>\n",
       "      <td>0-Bajo</td>\n",
       "      <td>1</td>\n",
       "      <td>1-Medio</td>\n",
       "      <td>2</td>\n",
       "      <td>2-Sobrepeso</td>\n",
       "      <td>2</td>\n",
       "      <td>1</td>\n",
       "    </tr>\n",
       "  </tbody>\n",
       "</table>\n",
       "</div>"
      ],
      "text/plain": [
       "   age  gender  height  weight  waist_circum_preferred  hip_circum  \\\n",
       "0   30  female  154.01    51.2                      79          96   \n",
       "\n",
       "   gender_bin        bmi       rcc       ict  obesity_bmi obesity_bmi_txt  \\\n",
       "0           0  21.585997  0.822917  0.512954            1        1-Normal   \n",
       "\n",
       "   obesity_cc obesity_cc_txt  obesity_rcc obesity_rcc_txt  obesity_ict  \\\n",
       "0           0         0-Bajo            1         1-Medio            2   \n",
       "\n",
       "  obesity_ict_txt  risk_factors  obesity  \n",
       "0     2-Sobrepeso             2        1  "
      ]
     },
     "execution_count": 23,
     "metadata": {},
     "output_type": "execute_result"
    }
   ],
   "source": [
    "person = make_obesity_prediction(person)\n",
    "\n",
    "df_person = pd.read_json(person, orient='records')\n",
    "\n",
    "df_person"
   ]
  },
  {
   "cell_type": "code",
   "execution_count": null,
   "id": "93bb5f19",
   "metadata": {},
   "outputs": [],
   "source": []
  }
 ],
 "metadata": {
  "kernelspec": {
   "display_name": "Python 3 (ipykernel)",
   "language": "python",
   "name": "python3"
  },
  "language_info": {
   "codemirror_mode": {
    "name": "ipython",
    "version": 3
   },
   "file_extension": ".py",
   "mimetype": "text/x-python",
   "name": "python",
   "nbconvert_exporter": "python",
   "pygments_lexer": "ipython3",
   "version": "3.8.8"
  },
  "latex_envs": {
   "LaTeX_envs_menu_present": true,
   "autoclose": false,
   "autocomplete": true,
   "bibliofile": "biblio.bib",
   "cite_by": "apalike",
   "current_citInitial": 1,
   "eqLabelWithNumbers": true,
   "eqNumInitial": 1,
   "hotkeys": {
    "equation": "Ctrl-E",
    "itemize": "Ctrl-I"
   },
   "labels_anchors": false,
   "latex_user_defs": false,
   "report_style_numbering": false,
   "user_envs_cfg": false
  }
 },
 "nbformat": 4,
 "nbformat_minor": 5
}

{
 "cells": [
  {
   "cell_type": "markdown",
   "id": "ba6d284d",
   "metadata": {},
   "source": [
    "# Descripción completa del archivo de datos"
   ]
  },
  {
   "cell_type": "markdown",
   "id": "f7075183",
   "metadata": {},
   "source": [
    "Los datos antropométricos se refieren a las medidas y características físicas de los seres humanos. Estos datos se obtienen mediante la medición de diferentes dimensiones corporales, como la estatura, el peso, la longitud de extremidades, el diámetro de huesos, el perímetro de la cabeza, entre otros. \n",
    "\n",
    "### Fuente de los datos:\n",
    "\n",
    "1. https://www.kaggle.com/datasets/thedevastator/3-d-anthropometry-measurements-of-human-body-sur?select=caesar.csv\n",
    "\n",
    "**Créditos:** Andy R. Terrel: https://data.world/andy\n",
    "\n",
    "\n",
    "### Catacterísticas generales:\n",
    "\n",
    "- Todos las medidas de longitud, están en pulgadas\n",
    "- El peso (weight) está en libras\n",
    "- Hay algunas variables que, aunque numéricas, son categóricas: bra_size_chest, bra_size_cup y shoe_size_us\n",
    "- Son pocos los valores faltantes\n",
    "- En general, cada variable tiene una distribución normal"
   ]
  },
  {
   "cell_type": "markdown",
   "id": "be8b09ff",
   "metadata": {},
   "source": [
    "## Metadatos\n",
    "\n",
    "- **age:**  Edad\n",
    "- **num_children:**  N° de hijos\n",
    "- **gender:**  Sexo (male, female)\n",
    "- **reported_height:**  Altura reportada (en pulgadas, * 2,54 para llevar a cm)\n",
    "- **reported_weight:**  Peso reportado (en libras, * 0,454 para llevar a Kg)\n",
    "- **reported_pants_size_waist:**  Talla reportada de la cintura del pantalón. Variable categórica \n",
    "- **reported_pants_size_inseam:**  Talla de la entrepierna del pantalón. Variable categórica\n",
    "- **bra_size_chest:**  Talla del brasier (torso). Variable categórica\n",
    "- **bra_size_cup:**  Talla de la copa del brasier. Variable categórica\n",
    "- **age_range:**  Rango de edad. Variable categórica\n",
    "- **shoe_size_us:**  Talla de zapato (US). Variable categórica.\n",
    "- **ankle_circum:**  Circunferencia del tobillo.\n",
    "- **spine_to_scye_len:**  Largo de la columna a la siza.\n",
    "- **spine_to_elbow_len:**  Largo de la columna al codo.\n",
    "- **arm_len_spine_wrist:**  Largo del brazo de la columna a la muñeca.\n",
    "- **arm_len_shoulder_wrist:**  Largo del brazo desde el hombro hasta la muñeca. \n",
    "- **arm_len_shoulder_elbow:**  Largo del brazo desde el hombro hasta el codo.\n",
    "- **scye_circum:**  Circunferencia o contorno de la siza.\n",
    "- **chest_circum:**  Circunferencia o contorno del torso o busto.\n",
    "- **chest_circum_below_bust:**  Circunferencia o contorno del torso bajo el busto.\n",
    "- **chest_circum_scye:**  Circunferencia o contorno del torso a la altura de la siza.\n",
    "- **jean_inseam:**  Entrepierna del jean.\n",
    "- **hand_len:**  Largo de la mano.\n",
    "- **hip_circum:**  Contorno de cadera.\n",
    "- **hip_height:**  Altura de cadera.\n",
    "- **neck_circum_base:**  Contorno de la base del cuello.\n",
    "- **bideltoid_breadth:**  Anchura bideltoidal\n",
    "- **height:**  Altura.\n",
    "- **thigh_circum_proximal:**  Circunferencia del muslo proximal.\n",
    "- **u_crotch:**  Tiro, medido desde la cintura adelante, pasando por la entrepierna hasta la cintura por detrás. Entrepierna en U.\n",
    "- **waist_circum_preferred:**  Contorno de cintura.\n",
    "- **waist_height_preferred:**  Altura de cintura\n",
    "- **weight:**  Peso.\n",
    "- **biacromial_breadth:**  Anchura biacromial.\n",
    "- **bicristal_breadth:**  Anchura bicristal.\n",
    "- **bust_to_bust:**  Distancia entre bustos. Distancia de busto a busto.\n",
    "- **cervical_height:**  Altura cervical.\n",
    "- **chest_height:**  Altura/largo del torso (no está claro, porque el promedio son 122 cm)\n",
    "- **interscye_dist:**  Distancia entre sizas, ancho de espalda.\n",
    "- **acromion_height:**  Altura del acromion.\n",
    "- **acromion_radial_len:**  Longitud acromion-radial.\n",
    "- **ankle_height_inside:**  Altura del tobillo por dentro.\n",
    "- **ankle_height_outside:**  Altura del tobillo por fuera.\n",
    "- **axilla_height:**  Altura de la axila.\n",
    "- **elbow_height:**  Altura del codo.\n",
    "- **knee_height:**  Altura de la rodilla.\n",
    "- **radial_stylion_len:**  Longitud radial-stylion.\n",
    "- **sleeve_inseam:**  Longitud interior de la manga.\n",
    "- **sleeve_outseam:**  Longitud exterior de la manga.\n",
    "- **acromion_radial_stylion_len:**  Longitud acromion-radial-stylion.\n",
    "- **shoulder_len:**  Longitud o largo del hombro.\n",
    "\n",
    "\n",
    "\n",
    "\n"
   ]
  },
  {
   "cell_type": "code",
   "execution_count": null,
   "id": "038992d7",
   "metadata": {},
   "outputs": [],
   "source": []
  }
 ],
 "metadata": {
  "kernelspec": {
   "display_name": "Python 3 (ipykernel)",
   "language": "python",
   "name": "python3"
  },
  "language_info": {
   "codemirror_mode": {
    "name": "ipython",
    "version": 3
   },
   "file_extension": ".py",
   "mimetype": "text/x-python",
   "name": "python",
   "nbconvert_exporter": "python",
   "pygments_lexer": "ipython3",
   "version": "3.8.8"
  },
  "latex_envs": {
   "LaTeX_envs_menu_present": true,
   "autoclose": false,
   "autocomplete": true,
   "bibliofile": "biblio.bib",
   "cite_by": "apalike",
   "current_citInitial": 1,
   "eqLabelWithNumbers": true,
   "eqNumInitial": 1,
   "hotkeys": {
    "equation": "Ctrl-E",
    "itemize": "Ctrl-I"
   },
   "labels_anchors": false,
   "latex_user_defs": false,
   "report_style_numbering": false,
   "user_envs_cfg": false
  }
 },
 "nbformat": 4,
 "nbformat_minor": 5
}
